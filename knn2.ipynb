{
 "cells": [
  {
   "cell_type": "markdown",
   "id": "913c896d-3bcd-4d91-bc7a-5e11d9e413e3",
   "metadata": {},
   "source": [
    "Q1. What is the main difference between the Euclidean distance metric and the Manhattan distance\n",
    "metric in KNN? How might this difference affect the performance of a KNN classifier or regressor?"
   ]
  },
  {
   "cell_type": "code",
   "execution_count": null,
   "id": "8415cf85-139e-4f9d-adab-09ddafb7fd3f",
   "metadata": {},
   "outputs": [],
   "source": [
    "Ans:-Euclidean distance:-\n",
    "         Euclidean distance measure straight line of distance between two points.\n",
    "           Euclidean Distance = sqrt((x2 - x1)^2 + (y2 - y1)^2)\n",
    "        \n",
    "        Manhattan distance:-\n",
    "          Manhattan distance measure distance between two points by adding absolute diff. between feature values\n",
    "            Manhattan Distance = |x2 - x1| + |y2 - y1|"
   ]
  },
  {
   "cell_type": "markdown",
   "id": "187054df-4435-40c1-b581-88ff223fde29",
   "metadata": {},
   "source": [
    "Q2. How do you choose the optimal value of k for a KNN classifier or regressor? What techniques can be\n",
    "used to determine the optimal k value?"
   ]
  },
  {
   "cell_type": "code",
   "execution_count": null,
   "id": "1427badf-98a9-4cfb-993d-c97104ebcd3d",
   "metadata": {},
   "outputs": [],
   "source": [
    "Ans:-\n",
    "       i.Grid search CV\n",
    "        ii.cross-validation\n",
    "          iii.Elbow method"
   ]
  },
  {
   "cell_type": "markdown",
   "id": "f989644a-6f8e-401c-bf70-6b7ad09a86cc",
   "metadata": {},
   "source": [
    "Q3. How does the choice of distance metric affect the performance of a KNN classifier or regressor? In\n",
    "what situations might you choose one distance metric over the other?"
   ]
  },
  {
   "cell_type": "code",
   "execution_count": null,
   "id": "73b5f0b8-b471-44c8-a516-d83c36924e27",
   "metadata": {},
   "outputs": [],
   "source": [
    "AnsL:-Situations:- \n",
    "       The choice of other distance metrics depends on the specific characteristics of the data and the problem.\n",
    "         i.euclidean distance\n",
    "          ii.manhatten distance"
   ]
  },
  {
   "cell_type": "markdown",
   "id": "189e0b79-45d2-4ba7-9f1b-b56949c86e3a",
   "metadata": {},
   "source": [
    "Q4. What are some common hyperparameters in KNN classifiers and regressors, and how do they affect\n",
    "the performance of the model? How might you go about tuning these hyperparameters to improve\n",
    "model performance?"
   ]
  },
  {
   "cell_type": "code",
   "execution_count": null,
   "id": "6f70d155-9582-40cd-838e-0cd949f7e8b1",
   "metadata": {},
   "outputs": [],
   "source": [
    "Ans:-\n",
    "      i.Distance matrix\n",
    "       ii.feature scaling\n",
    "        \n",
    "        improve model performance:-\n",
    "          i.Define a range of values for each hyperparameter\n",
    "            ii.use cross-validation technique grid search CV\n",
    "            \n",
    "            Tuning hyperparameters should be done cautiously to avoid overfitting to the validation data."
   ]
  },
  {
   "cell_type": "markdown",
   "id": "3dba4c74-4384-4101-9f93-5b9ff2bddae4",
   "metadata": {},
   "source": [
    "Q5. How does the size of the training set affect the performance of a KNN classifier or regressor? What\n",
    "techniques can be used to optimize the size of the training set?"
   ]
  },
  {
   "cell_type": "code",
   "execution_count": null,
   "id": "a3ae7440-7040-4dfc-9599-837bc69caf7f",
   "metadata": {},
   "outputs": [],
   "source": [
    "Ans:-\n",
    "      i.overfitting & underfitting\n",
    "       ii.Bias-variance Trade off\n",
    "        iii.Feature selection\n",
    "          iv.stratified sampling"
   ]
  },
  {
   "cell_type": "markdown",
   "id": "6f005171-5d5e-49a0-b9f1-523e30f83819",
   "metadata": {},
   "source": [
    "Q6. What are some potential drawbacks of using KNN as a classifier or regressor? How might you\n",
    "overcome these drawbacks to improve the performance of the model?"
   ]
  },
  {
   "cell_type": "code",
   "execution_count": null,
   "id": "50d46b29-bd25-4781-afef-19379eb02a95",
   "metadata": {},
   "outputs": [],
   "source": [
    "Ans:-"
   ]
  }
 ],
 "metadata": {
  "kernelspec": {
   "display_name": "Python 3 (ipykernel)",
   "language": "python",
   "name": "python3"
  },
  "language_info": {
   "codemirror_mode": {
    "name": "ipython",
    "version": 3
   },
   "file_extension": ".py",
   "mimetype": "text/x-python",
   "name": "python",
   "nbconvert_exporter": "python",
   "pygments_lexer": "ipython3",
   "version": "3.10.8"
  }
 },
 "nbformat": 4,
 "nbformat_minor": 5
}
